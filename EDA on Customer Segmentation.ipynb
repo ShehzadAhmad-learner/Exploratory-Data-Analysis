{
 "cells": [
  {
   "cell_type": "markdown",
   "metadata": {},
   "source": [
    "## **Author**: Shehzad Ahmad\n",
    "## **Date**: 2024-07-01\n",
    "## **LinkedIn**: [ds-Shehzad]('https://www.linkedin.com/in/ds-shehzad') "
   ]
  },
  {
   "cell_type": "markdown",
   "metadata": {},
   "source": [
    "### **Description**"
   ]
  },
  {
   "cell_type": "markdown",
   "metadata": {},
   "source": [
    "This dataset contains simulated customer data that can be used for segmentation analysis. It includes demographic and behavioral information about customers, which can help in identifying distinct segments within the customer base. This can be particularly useful for targeted marketing strategies, improving customer satisfaction, and increasing sales."
   ]
  },
  {
   "cell_type": "markdown",
   "metadata": {},
   "source": [
    "I used ydata-profiling library for the Exploratory Data Analysis of this dataset. This library provides all the details about the datasets also provide eye catching graphs, provides the columns correlation with each others just in few lines of code and provides the report in *HTML* file, which can be view in browser."
   ]
  },
  {
   "cell_type": "markdown",
   "metadata": {},
   "source": [
    "### **Columns:**\n",
    "**id**: Unique identifier for each customer.\\\n",
    "**age**: Age of the customer.\\\n",
    "**gender**: Gender of the customer (Male, Female, Other).\\\n",
    "**income**: Annual income of the customer (in USD).\\\n",
    "**spending_score**: Spending score (1-100), indicating the customer's spending behavior and loyalty.\\\n",
    "**membership_years**: Number of years the customer has been a member.\\\n",
    "**purchase_frequency**: Number of purchases made by the customer in the last year.\\\n",
    "**preferred_category**: Preferred shopping category (Electronics, Clothing, Groceries, Home & Garden, Sports).\\\n",
    "**last_purchase_amount**: Amount spent by the customer on their last purchase (in USD).\n",
    "### **Potential Uses:**\n",
    "**Customer Segmentation**: Identify different customer segments based on their demographic and behavioral characteristics.\\\n",
    "**Targeted Marketing**: Develop targeted marketing strategies for different customer segments.\\\n",
    "**Customer Loyalty Programs**: Design loyalty programs based on customer spending behavior and preferences.\\\n",
    "**Sales Analysis**: Analyze sales patterns and predict future trends.\n",
    "### **Dataset Source:**\n",
    "[Fahmidia Chowdhury]('https://www.kaggle.com/datasets/fahmidachowdhury/customer-segmentation-data-for-marketing-analysis')"
   ]
  },
  {
   "cell_type": "code",
   "execution_count": 1,
   "metadata": {},
   "outputs": [],
   "source": [
    "##Installing Important libraries needed\n",
    "#pip install ydata-profiling\n",
    "#pip install pandas"
   ]
  },
  {
   "cell_type": "code",
   "execution_count": 5,
   "metadata": {},
   "outputs": [],
   "source": [
    "# importing libraries\n",
    "import pandas as pd\n",
    "import ydata_profiling as yd\n",
    "%matplotlib inline"
   ]
  },
  {
   "cell_type": "code",
   "execution_count": 4,
   "metadata": {},
   "outputs": [],
   "source": [
    "#creating dataframa for ydata profiling\n",
    "df = pd.read_csv('./Datasets/customer_segmentation_data.csv')"
   ]
  },
  {
   "cell_type": "code",
   "execution_count": 7,
   "metadata": {},
   "outputs": [],
   "source": [
    "# creating a profile report of the datafram\n",
    "profile = yd.ProfileReport(df)"
   ]
  },
  {
   "cell_type": "code",
   "execution_count": 8,
   "metadata": {},
   "outputs": [
    {
     "name": "stderr",
     "output_type": "stream",
     "text": [
      "Summarize dataset:  69%|██████▉   | 11/16 [00:00<00:01,  2.90it/s, Calculate auto correlation]           c:\\Users\\shahz\\AppData\\Local\\miniconda3\\envs\\ydata_profiling\\lib\\site-packages\\ydata_profiling\\model\\correlations.py:66: UserWarning: There was an attempt to calculate the auto correlation, but this failed.\n",
      "To hide this warning, disable the calculation\n",
      "(using `df.profile_report(correlations={\"auto\": {\"calculate\": False}})`\n",
      "If this is problematic for your use case, please report this as an issue:\n",
      "https://github.com/ydataai/ydata-profiling/issues\n",
      "(include the error message: 'could not convert string to float: 'Female'')\n",
      "  warnings.warn(\n",
      "Summarize dataset: 100%|██████████| 67/67 [00:13<00:00,  4.86it/s, Completed]                                         \n",
      "Generate report structure: 100%|██████████| 1/1 [00:05<00:00,  5.88s/it]\n",
      "Render HTML: 100%|██████████| 1/1 [00:05<00:00,  6.00s/it]\n",
      "Export report to file: 100%|██████████| 1/1 [00:00<00:00, 35.31it/s]\n"
     ]
    }
   ],
   "source": [
    "# converting the profile report to an HTML file\n",
    "profile.to_file(output_file='./outputs/customers_segmentation.html')"
   ]
  },
  {
   "cell_type": "code",
   "execution_count": null,
   "metadata": {},
   "outputs": [],
   "source": []
  }
 ],
 "metadata": {
  "kernelspec": {
   "display_name": "ydata_profiling",
   "language": "python",
   "name": "python3"
  },
  "language_info": {
   "codemirror_mode": {
    "name": "ipython",
    "version": 3
   },
   "file_extension": ".py",
   "mimetype": "text/x-python",
   "name": "python",
   "nbconvert_exporter": "python",
   "pygments_lexer": "ipython3",
   "version": "3.10.14"
  }
 },
 "nbformat": 4,
 "nbformat_minor": 2
}
