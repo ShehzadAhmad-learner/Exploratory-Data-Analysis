{
 "cells": [
  {
   "cell_type": "markdown",
   "metadata": {},
   "source": [
    "# **Author:** Shehzad Ahmad\n",
    "### **Date:** 2024-07-01\n",
    "### **Linkedin:** [ds-Shehzad]('https://www.linkedin.com/in/ds-shehzad/')\n",
    "### **Github:** [ds-Shehzad]('https://github.com/ShehzadAhmad-learner')"
   ]
  },
  {
   "cell_type": "markdown",
   "metadata": {},
   "source": [
    "# Introduction"
   ]
  },
  {
   "cell_type": "markdown",
   "metadata": {},
   "source": [
    "#### **ydata-Profiling Reports**"
   ]
  },
  {
   "cell_type": "markdown",
   "metadata": {},
   "source": [
    "ydata-Profiling is a library for data analysis and report generation and works on pandas library, initially its name was pandas profiling but has now changed to ydata-profiling.\\\n",
    "\n",
    "Data quality profiling and exploratory data analysis are crucial steps in the process of Data Science and Machine Learning development. YData-profiling is a leading tool in the data understanding step of the data science workflow as a pioneering Python package.\n",
    "\n",
    "ydata-profiling is a leading package for data profiling, that automates and standardizes the generation of detailed reports, complete with statistics and visualizations. The significance of the package lies in how it streamlines the process of understanding and preparing data for analysis in a single line of code!"
   ]
  },
  {
   "cell_type": "markdown",
   "metadata": {},
   "source": [
    "___"
   ]
  },
  {
   "cell_type": "markdown",
   "metadata": {},
   "source": [
    "## **Descritption:** \n",
    "This dataset contains demographic information from the Pakistan Population Census conducted in 2017. It provides detailed population data at various administrative levels within Pakistan, including provinces, divisions, districts, and sub-divisions. The dataset also includes information on urban and rural populations, gender distribution, transgender individuals, sex ratios, population figures from the 1998 census, and annual growth rates."
   ]
  },
  {
   "cell_type": "markdown",
   "metadata": {},
   "source": [
    "\n",
    "\n",
    "## **Features**\n",
    "**Province**: The administrative provinces or regions of Pakistan where the census data was collected.\n",
    "\n",
    "**Division**: The divisions within each province. Divisions are the second level of administrative divisions in Pakistan.\n",
    "\n",
    "**District**: Districts within each division, representing larger administrative units.\n",
    "\n",
    "**Sub**-Division: Sub-divisions or tehsils within each district, providing more localized data.\n",
    "\n",
    "**Area**: The land area (in square kilometers) of each sub-division.\n",
    "\n",
    "**Urban** Population 2017: The population of urban areas within each sub-division for the year 2017.\n",
    "\n",
    "**Rural Population 2017**: The population of rural areas within each sub-division for the year 2017.\n",
    "\n",
    "**Male Population 2017**: The male population within each sub-division for the year 2017.\n",
    "\n",
    "**Female Population 2017**: The female population within each sub-division for the year 2017.\n",
    "\n",
    "**Transgender Population 2017:** The population of transgender individuals within each sub-division for the year 2017.\n",
    "\n",
    "**Sex Ratio 2017**: The sex ratio, calculated as the number of females per 1000 males, within each sub-division for the year 2017.\n",
    "\n",
    "**Population in 1998**: The total population of each sub-division as recorded in the 1998 census.\n",
    "\n",
    "**Annual Growth Rate**: The annual growth rate of the population in each sub-division, calculated as the percentage increase from 1998 to 2017.\n",
    "\n",
    "## **Data Source**\n",
    "The data in this dataset was collected from official Pakistan Population Census reports and may include data from various government sources. It is essential to provide proper attribution and reference the original sources when using this dataset for analysis or research.\n",
    "\n",
    "**Data Usage**\n",
    "Researchers and analysts can use this dataset to explore demographic trends, population growth, urbanization rates, gender distribution, and more within Pakistan at different administrative levels. Ensure compliance with ethical and legal guidelines when using this data for research or public sharing."
   ]
  },
  {
   "cell_type": "markdown",
   "metadata": {},
   "source": [
    "This Code is done inside an environment with pyton 3.10.0"
   ]
  },
  {
   "cell_type": "code",
   "execution_count": 1,
   "metadata": {},
   "outputs": [
    {
     "name": "stderr",
     "output_type": "stream",
     "text": [
      "c:\\Users\\shahz\\AppData\\Local\\miniconda3\\envs\\ydata_profiling\\lib\\site-packages\\tqdm\\auto.py:21: TqdmWarning: IProgress not found. Please update jupyter and ipywidgets. See https://ipywidgets.readthedocs.io/en/stable/user_install.html\n",
      "  from .autonotebook import tqdm as notebook_tqdm\n"
     ]
    }
   ],
   "source": [
    "#Importing libraries\n",
    "import pandas as pd\n",
    "import ydata_profiling as yd\n",
    "%matplotlib inline"
   ]
  },
  {
   "cell_type": "code",
   "execution_count": 2,
   "metadata": {},
   "outputs": [],
   "source": [
    "df = pd.read_csv('./datasets/pk_data.csv')"
   ]
  },
  {
   "cell_type": "code",
   "execution_count": 3,
   "metadata": {},
   "outputs": [],
   "source": [
    "profile = yd.ProfileReport(df)"
   ]
  },
  {
   "cell_type": "code",
   "execution_count": 4,
   "metadata": {},
   "outputs": [
    {
     "name": "stderr",
     "output_type": "stream",
     "text": [
      "Summarize dataset:  82%|████████▏ | 23/28 [00:00<00:00, 28.71it/s, Calculate auto correlation]                  c:\\Users\\shahz\\AppData\\Local\\miniconda3\\envs\\ydata_profiling\\lib\\site-packages\\ydata_profiling\\model\\correlations.py:66: UserWarning: There was an attempt to calculate the auto correlation, but this failed.\n",
      "To hide this warning, disable the calculation\n",
      "(using `df.profile_report(correlations={\"auto\": {\"calculate\": False}})`\n",
      "If this is problematic for your use case, please report this as an issue:\n",
      "https://github.com/ydataai/ydata-profiling/issues\n",
      "(include the error message: 'could not convert string to float: 'BAHAWALPUR DIVISION'')\n",
      "  warnings.warn(\n",
      "Summarize dataset: 100%|██████████| 319/319 [01:04<00:00,  4.94it/s, Completed]                                                     \n",
      "Generate report structure: 100%|██████████| 1/1 [00:15<00:00, 15.32s/it]\n",
      "Render HTML: 100%|██████████| 1/1 [00:14<00:00, 14.86s/it]\n",
      "Export report to file: 100%|██████████| 1/1 [00:00<00:00,  5.03it/s]\n"
     ]
    }
   ],
   "source": [
    "profile.to_file(output_file='./outputs/Pak Population data.html')"
   ]
  },
  {
   "cell_type": "code",
   "execution_count": null,
   "metadata": {},
   "outputs": [],
   "source": []
  }
 ],
 "metadata": {
  "kernelspec": {
   "display_name": "ydata_profiling",
   "language": "python",
   "name": "python3"
  },
  "language_info": {
   "codemirror_mode": {
    "name": "ipython",
    "version": 3
   },
   "file_extension": ".py",
   "mimetype": "text/x-python",
   "name": "python",
   "nbconvert_exporter": "python",
   "pygments_lexer": "ipython3",
   "version": "3.10.14"
  }
 },
 "nbformat": 4,
 "nbformat_minor": 2
}
